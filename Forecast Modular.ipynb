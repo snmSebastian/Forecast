{
 "cells": [
  {
   "cell_type": "code",
   "execution_count": 1,
   "metadata": {},
   "outputs": [
    {
     "name": "stderr",
     "output_type": "stream",
     "text": [
      "/home/sebastian/.local/lib/python3.10/site-packages/pandas/core/arrays/masked.py:62: UserWarning: Pandas requires version '1.3.4' or newer of 'bottleneck' (version '1.3.2' currently installed).\n",
      "  from pandas.core import (\n"
     ]
    },
    {
     "name": "stdout",
     "output_type": "stream",
     "text": [
      "Se ejecuto correctamenteHistoricalSales\n",
      "-------------------------------------------------------------------------------\n",
      "\n"
     ]
    }
   ],
   "source": [
    "from packages import pd\n",
    "from data_loading import historical_sales\n",
    "ruta=r'/home/sebastian/Documentos/programas/Forescast Work/sales_historical.csv'\n",
    "df_sales_and_product= historical_sales(ruta)\n"
   ]
  },
  {
   "cell_type": "code",
   "execution_count": 2,
   "metadata": {},
   "outputs": [
    {
     "name": "stdout",
     "output_type": "stream",
     "text": [
      "Se ejecutó correctamente: time_serie\n",
      "-------------------------------------------------------------------------------\n",
      "\n"
     ]
    }
   ],
   "source": [
    "from time_series_analysis import  time_serie\n",
    "lst_category = ['Pliers', 'Clamps']\n",
    "filtros = {\n",
    "    'Country': 'Mexico',\n",
    "    'Category Group': lst_category\n",
    "}\n",
    "serie_sales_dict,series_dict = time_serie(df_sales_and_product, filtros)"
   ]
  },
  {
   "cell_type": "code",
   "execution_count": 3,
   "metadata": {},
   "outputs": [],
   "source": [
    "serie=series_dict['Pliers']\n",
    "serie_sales=serie_sales_dict['Pliers']"
   ]
  },
  {
   "cell_type": "code",
   "execution_count": 4,
   "metadata": {},
   "outputs": [
    {
     "name": "stdout",
     "output_type": "stream",
     "text": [
      "La serie de ventas pasó la prueba de Dickey-Fuller y es estacionaria.\n",
      "se estacionarizo la serie con 0 diferenciaciones\n"
     ]
    }
   ],
   "source": [
    "from time_series_analysis import seasonalize_series\n",
    "serie=seasonalize_series(serie)"
   ]
  },
  {
   "cell_type": "code",
   "execution_count": 5,
   "metadata": {},
   "outputs": [
    {
     "name": "stdout",
     "output_type": "stream",
     "text": [
      "Se ejecuto correctamente: data_model2\n",
      "-------------------------------------------------------------------------------\n",
      "\n"
     ]
    }
   ],
   "source": [
    "from data_segmentation import data_model2\n",
    "train_data,test_data=data_model2(serie)"
   ]
  },
  {
   "cell_type": "code",
   "execution_count": null,
   "metadata": {},
   "outputs": [],
   "source": []
  }
 ],
 "metadata": {
  "kernelspec": {
   "display_name": "Python 3",
   "language": "python",
   "name": "python3"
  },
  "language_info": {
   "codemirror_mode": {
    "name": "ipython",
    "version": 3
   },
   "file_extension": ".py",
   "mimetype": "text/x-python",
   "name": "python",
   "nbconvert_exporter": "python",
   "pygments_lexer": "ipython3",
   "version": "3.10.12"
  }
 },
 "nbformat": 4,
 "nbformat_minor": 2
}
