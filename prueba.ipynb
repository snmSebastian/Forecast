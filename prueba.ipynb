{
 "cells": [
  {
   "cell_type": "code",
   "execution_count": 1,
   "metadata": {},
   "outputs": [],
   "source": [
    "from data import historical_sales,historical_sales_and_predicts\n",
    "from preprocessing import time_serie,preprocess_series\n",
    "ruta=r'/home/sebastian/Documentos/programas/Forescast Work/sales_historical.csv'\n",
    "df_sales_and_product=historical_sales(ruta)\n",
    "\n"
   ]
  },
  {
   "cell_type": "code",
   "execution_count": 2,
   "metadata": {},
   "outputs": [],
   "source": [
    "df_sales_and_predicts=historical_sales_and_predicts(df_sales_and_product)"
   ]
  },
  {
   "cell_type": "code",
   "execution_count": null,
   "metadata": {},
   "outputs": [],
   "source": [
    "df_sales_and_predicts['country'].unique()"
   ]
  },
  {
   "cell_type": "code",
   "execution_count": null,
   "metadata": {},
   "outputs": [],
   "source": [
    "df_sales_and_predicts[df_sales_and_predicts['country'] == 'Peru']['category group'].unique()\n"
   ]
  },
  {
   "cell_type": "code",
   "execution_count": null,
   "metadata": {},
   "outputs": [],
   "source": [
    "from main_code import filtros\n",
    "filtros"
   ]
  },
  {
   "cell_type": "code",
   "execution_count": null,
   "metadata": {},
   "outputs": [],
   "source": [
    "lst_category=['Pliers']\n",
    "filtros={\n",
    "    'country':'Mexico',\n",
    "    'category group':lst_category\n",
    "}\n",
    "series_sales_dict,series_dict=time_serie(df_sales_and_predicts, filtros)\n",
    "serie=series_dict['Pliers']\n"
   ]
  },
  {
   "cell_type": "code",
   "execution_count": null,
   "metadata": {},
   "outputs": [],
   "source": [
    "from models.model_sarimax import sarimax_model\n",
    "df_predict,best_results_backtesting=sarimax_model(serie)"
   ]
  },
  {
   "cell_type": "code",
   "execution_count": 5,
   "metadata": {},
   "outputs": [],
   "source": [
    "from results import concat_result\n",
    "df_sales_predicts=concat_result(df_predict,df_sales_predicts,best_results_backtesting,filtros)"
   ]
  },
  {
   "cell_type": "code",
   "execution_count": null,
   "metadata": {},
   "outputs": [],
   "source": [
    "from packages import plt\n",
    " # Gráfico de comparación\n",
    "plt.figure(figsize=(12, 6))\n",
    "#plt.plot(serie, label='Datos de entrenamiento', color='blue')\n",
    "plt.plot(df_predict['venta'], label='Pronóstico', color='red', linestyle='dashed')\n",
    "plt.legend()\n",
    "plt.title('Comparación entre Pronóstico y Datos Reales')\n",
    "plt.xlabel('Fecha')\n",
    "plt.ylabel('Valor')\n",
    "plt.grid()\n",
    "plt.show()"
   ]
  },
  {
   "cell_type": "code",
   "execution_count": null,
   "metadata": {},
   "outputs": [],
   "source": [
    "from data import historical_sales,historical_sales_and_predicts\n",
    "from main_code import filtros\n",
    "from preprocessing import time_serie\n",
    "from models.model_sarimax import sarimax_model\n",
    "from results import concat_result\n",
    "'''\n",
    "lst_category_group_mexico=['Pliers']\n",
    "lst_category_group_brasil=[ 'Air Tools']\n",
    "filtros=[\n",
    "    {'country':'Mexico',\n",
    "     'category group':lst_category_group_mexico},\n",
    "\n",
    "     {'country':'Brasil',\n",
    "     'category group':lst_category_group_brasil}\n",
    "]\n",
    "'''\n",
    "ruta=r'/home/sebastian/Documentos/programas/Forescast Work/sales_historical.csv'\n",
    "df_sales_and_product=historical_sales(ruta)\n",
    "df_sales_and_predicts=historical_sales_and_predicts(df_sales_and_product)\n",
    "\n",
    "for filters in filtros:\n",
    "    print(f'entro al for: {filters}')\n",
    "    country = filters['country']\n",
    "    series_sales_dict,series_dict=time_serie(df_sales_and_predicts,filters)\n",
    "    for category in list(series_dict.keys()):\n",
    "        serie=series_dict[category]\n",
    "        df_predict,best_results_backtesting=sarimax_model(serie)\n",
    "        df_sales_and_predicts=concat_result(df_predict,df_sales_and_predicts,best_results_backtesting,country,category)\n",
    "df_sales_and_predicts.to_csv('/home/sebastian/Documentos/programas/Forescast Work/sarimax.csv')"
   ]
  },
  {
   "cell_type": "code",
   "execution_count": null,
   "metadata": {},
   "outputs": [],
   "source": [
    "df_sales_and_predicts"
   ]
  },
  {
   "cell_type": "code",
   "execution_count": null,
   "metadata": {},
   "outputs": [],
   "source": [
    "\n",
    "from data import historical_sales,historical_sales_and_predicts,historical_sales_and_predicts_country\n",
    "from main_code import filtros,filtros_country\n",
    "from preprocessing import time_serie,time_serie_country\n",
    "from models.model_sarimax import sarimax_model\n",
    "from results import concat_result,concat_result_country\n",
    "\n",
    "#===================================================\n",
    "#--- Modelo por country \n",
    "#===================================================\n",
    "print(f'{\"-\"*80}\\n Modelo Sarimax por country {\"-\"*80}\\n')\n",
    "ruta=r'/home/sebastian/Documentos/programas/Forescast Work/sales_historical.csv'\n",
    "df_sales_and_product=historical_sales(ruta)\n",
    "print(f'{\"-\"*80}\\n ---cargo el archivo con ventas historicas{\"-\"*80}\\n')\n",
    "df_sales_and_predicts=historical_sales_and_predicts_country(df_sales_and_product)\n",
    "print(f'---genero el dataframe donde se almacenaran los resultados{\"-\"*80}\\n')\n",
    "series_sales_dict,series_dict=time_serie_country(df_sales_and_predicts,filtros_country)\n",
    "for country in list(series_dict.keys()):\n",
    "    print(f'--- entro al for para: {country}{\"-\"*50}\\n')\n",
    "    serie=series_dict[country]\n",
    "    print(f'genero la serie para: {country}{\"-\"*50}\\n')\n",
    "    df_predict,best_results_backtesting=sarimax_model(serie)\n",
    "    print(f'realizo el modelo para {country}{\"-\"*50}\\n')\n",
    "    df_sales_and_predicts=concat_result_country(df_predict,df_sales_and_predicts,best_results_backtesting,country)\n",
    "    print(f'agrego los resultados para {country}{\"-\"*50}\\n')\n",
    "df_sales_and_predicts.to_csv('/home/sebastian/Documentos/programas/Forescast Work/sarimax_country.csv')\n",
    "\n"
   ]
  },
  {
   "cell_type": "code",
   "execution_count": 1,
   "metadata": {},
   "outputs": [
    {
     "name": "stdout",
     "output_type": "stream",
     "text": [
      "--------------------------------------------------------------------------------\n",
      " Modelo Sarimax por country --------------------------------------------------------------------------------\n",
      "\n",
      "--------------------------------------------------------------------------------\n",
      " ---cargo el archivo con ventas historicas--------------------------------------------------------------------------------\n",
      "\n",
      "---genero el dataframe donde se almacenaran los resultados--------------------------------------------------------------------------------\n",
      "\n",
      "Se ejecutó correctamente: time_serie\n",
      "-------------------------------------------------------------------------------\n",
      "\n",
      "entro al for para: Argentina\n",
      "genero la serie para: Argentina\n",
      "realizo el modelo para Argentina\n",
      "agrego los resultados para Argentina\n",
      "entro al for para: Bolivia\n",
      "genero la serie para: Bolivia\n"
     ]
    },
    {
     "name": "stderr",
     "output_type": "stream",
     "text": [
      "/home/sebastian/.local/lib/python3.10/site-packages/statsmodels/tsa/statespace/sarimax.py:866: UserWarning: Too few observations to estimate starting parameters for seasonal ARMA. All parameters except for variances will be set to zeros.\n",
      "  warn('Too few observations to estimate starting parameters%s.'\n"
     ]
    },
    {
     "name": "stdout",
     "output_type": "stream",
     "text": [
      "realizo el modelo para Bolivia\n",
      "agrego los resultados para Bolivia\n",
      "entro al for para: Brasil\n",
      "genero la serie para: Brasil\n",
      "realizo el modelo para Brasil\n",
      "agrego los resultados para Brasil\n",
      "entro al for para: Chile\n",
      "genero la serie para: Chile\n",
      "realizo el modelo para Chile\n",
      "agrego los resultados para Chile\n",
      "entro al for para: Colombia\n",
      "genero la serie para: Colombia\n",
      "realizo el modelo para Colombia\n",
      "agrego los resultados para Colombia\n",
      "entro al for para: Ecuador\n",
      "genero la serie para: Ecuador\n",
      "realizo el modelo para Ecuador\n",
      "agrego los resultados para Ecuador\n",
      "entro al for para: Mexico\n",
      "genero la serie para: Mexico\n"
     ]
    },
    {
     "name": "stderr",
     "output_type": "stream",
     "text": [
      "/home/sebastian/.local/lib/python3.10/site-packages/statsmodels/tsa/statespace/sarimax.py:866: UserWarning: Too few observations to estimate starting parameters for seasonal ARMA. All parameters except for variances will be set to zeros.\n",
      "  warn('Too few observations to estimate starting parameters%s.'\n"
     ]
    },
    {
     "name": "stdout",
     "output_type": "stream",
     "text": [
      "realizo el modelo para Mexico\n",
      "agrego los resultados para Mexico\n",
      "entro al for para: Peru\n",
      "genero la serie para: Peru\n",
      "realizo el modelo para Peru\n",
      "agrego los resultados para Peru\n"
     ]
    }
   ],
   "source": [
    "from data import historical_sales,historical_sales_and_predicts,historical_sales_and_predicts_country\n",
    "from main_code import filtros,filtros_country\n",
    "from preprocessing import time_serie_country\n",
    "from models.model_sarimax import sarimax_model,sarimax_model_basico\n",
    "from results import concat_result,concat_result_country,concat_result_country_basico\n",
    "\n",
    "#===================================================\n",
    "#--- Modelo por country Basico\n",
    "#===================================================\n",
    "\n",
    "#===================================================\n",
    "#--- Modelo por country \n",
    "#===================================================\n",
    "print(f'{\"-\"*80}\\n Modelo Sarimax por country {\"-\"*80}\\n')\n",
    "ruta=r'/home/sebastian/Documentos/programas/Forescast Work/sales_historical.csv'\n",
    "df_sales_and_product=historical_sales(ruta)\n",
    "print(f'{\"-\"*80}\\n ---cargo el archivo con ventas historicas{\"-\"*80}\\n')\n",
    "df_sales_and_predicts=historical_sales_and_predicts_country(df_sales_and_product)\n",
    "print(f'---genero el dataframe donde se almacenaran los resultados{\"-\"*80}\\n')\n",
    "series_sales_dict,series_dict=time_serie_country(df_sales_and_predicts,filtros_country)\n",
    "for country in list(series_dict.keys()):\n",
    "    print(f'entro al for para: {country}')\n",
    "    serie=series_dict[country]\n",
    "    print(f'genero la serie para: {country}')\n",
    "    df_predict=sarimax_model_basico(serie)\n",
    "    print(f'realizo el modelo para {country}')\n",
    "    df_sales_and_predicts=concat_result_country_basico(df_predict,df_sales_and_predicts,country)\n",
    "    print(f'agrego los resultados para {country}')\n",
    "df_sales_and_predicts.to_csv('/home/sebastian/Documentos/programas/Forescast Work/sarimax_country_basico.csv')\n",
    "\n"
   ]
  }
 ],
 "metadata": {
  "kernelspec": {
   "display_name": "Python 3",
   "language": "python",
   "name": "python3"
  },
  "language_info": {
   "codemirror_mode": {
    "name": "ipython",
    "version": 3
   },
   "file_extension": ".py",
   "mimetype": "text/x-python",
   "name": "python",
   "nbconvert_exporter": "python",
   "pygments_lexer": "ipython3",
   "version": "3.10.12"
  }
 },
 "nbformat": 4,
 "nbformat_minor": 2
}
