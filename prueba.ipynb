{
 "cells": [
  {
   "cell_type": "code",
   "execution_count": 1,
   "metadata": {},
   "outputs": [
    {
     "name": "stdout",
     "output_type": "stream",
     "text": [
      "Se ejecuto correctamenteHistoricalSales\n",
      "-------------------------------------------------------------------------------\n",
      "\n"
     ]
    }
   ],
   "source": [
    "from data_loading import historical_sales\n",
    "from time_series_analysis import time_serie\n",
    "from data_segmentation import data_model2\n",
    "from parameters_optimization import best_parameters_auto_arima2,generate_param_grid2\n",
    "from packages import ForecasterSarimax,Sarimax,TimeSeriesFold,grid_search_sarimax\n",
    "\n",
    "\n",
    "ruta=r'/home/sebastian/Documentos/programas/Forescast Work/sales_historical.csv'\n",
    "df_sales_and_product= historical_sales(ruta)\n",
    "df_filtrado = df_sales_and_product[\n",
    "            (df_sales_and_product['Country'] == 'Mexico')\n",
    "            &(df_sales_and_product['Category Group'] == 'Pliers')  \n",
    "            ]\n",
    "df_grouped = (\n",
    "                    df_filtrado\n",
    "                    .groupby(df_filtrado['Date'].dt.to_period('M'))['Total Sales']\n",
    "                    .sum()\n",
    "                    .reset_index()\n",
    "                )\n",
    "df_grouped['Date'] = df_grouped['Date'].dt.to_timestamp()\n",
    "serie = df_grouped.set_index('Date')['Total Sales']\n",
    "serie = serie.asfreq('MS') "
   ]
  },
  {
   "cell_type": "code",
   "execution_count": 2,
   "metadata": {},
   "outputs": [
    {
     "data": {
      "text/plain": [
       "Date\n",
       "2019-01-01    245102.00\n",
       "2019-02-01    193397.00\n",
       "2019-03-01    158370.00\n",
       "2019-04-01    128294.00\n",
       "2019-05-01     91071.00\n",
       "                ...    \n",
       "2024-06-01    152674.42\n",
       "2024-07-01    174395.22\n",
       "2024-08-01    210767.20\n",
       "2024-09-01     91485.92\n",
       "2024-10-01    135115.06\n",
       "Freq: MS, Name: Total Sales, Length: 70, dtype: float64"
      ]
     },
     "execution_count": 2,
     "metadata": {},
     "output_type": "execute_result"
    }
   ],
   "source": [
    "serie"
   ]
  },
  {
   "cell_type": "code",
   "execution_count": 3,
   "metadata": {},
   "outputs": [
    {
     "name": "stdout",
     "output_type": "stream",
     "text": [
      "Se ejecutó correctamente: preprocess_series\n",
      "-------------------------------------------------------------------------------\n",
      "\n"
     ]
    }
   ],
   "source": [
    "from time_series_analysis import preprocess_series\n",
    "diff_serie=preprocess_series(serie)\n",
    "serie=diff_serie"
   ]
  },
  {
   "cell_type": "code",
   "execution_count": 4,
   "metadata": {},
   "outputs": [
    {
     "data": {
      "text/plain": [
       "Date\n",
       "2020-02-01    1.124303\n",
       "2020-03-01   -0.774725\n",
       "2020-04-01   -0.025594\n",
       "2020-05-01    0.946452\n",
       "2020-06-01   -1.550174\n",
       "2020-07-01   -0.104347\n",
       "2020-08-01    0.700035\n",
       "2020-09-01   -0.155549\n",
       "2020-10-01    1.081985\n",
       "2020-11-01   -0.804257\n",
       "2020-12-01    0.742656\n",
       "2021-01-01   -0.368779\n",
       "2021-02-01   -0.650826\n",
       "2021-03-01    0.531336\n",
       "2021-04-01    0.670574\n",
       "2021-05-01   -0.973720\n",
       "2021-06-01    0.842374\n",
       "2021-07-01   -0.161342\n",
       "2021-08-01   -0.078273\n",
       "2021-09-01    0.052546\n",
       "2021-10-01    0.019024\n",
       "2021-11-01    0.141563\n",
       "2021-12-01   -0.364884\n",
       "2022-01-01    0.204211\n",
       "2022-02-01   -0.202766\n",
       "2022-03-01   -0.207305\n",
       "2022-04-01   -0.377249\n",
       "2022-05-01   -0.005028\n",
       "2022-06-01    0.119481\n",
       "2022-07-01    0.500287\n",
       "2022-08-01    0.411995\n",
       "2022-09-01   -0.378161\n",
       "2022-10-01   -0.170197\n",
       "2022-11-01    0.129983\n",
       "2022-12-01    0.701455\n",
       "2023-01-01   -0.187830\n",
       "2023-02-01   -0.467856\n",
       "2023-03-01    0.500902\n",
       "2023-04-01    0.046969\n",
       "2023-05-01    0.539640\n",
       "2023-06-01   -0.691701\n",
       "2023-07-01   -0.325959\n",
       "2023-08-01   -0.345731\n",
       "2023-09-01    0.563713\n",
       "2023-10-01   -0.395490\n",
       "2023-11-01    0.404192\n",
       "2023-12-01   -0.854308\n",
       "2024-01-01    1.236859\n",
       "2024-02-01   -0.005079\n",
       "2024-03-01    0.460790\n",
       "2024-04-01   -0.553920\n",
       "2024-05-01    0.035861\n",
       "2024-06-01    0.449431\n",
       "2024-07-01   -0.122178\n",
       "2024-08-01    0.103792\n",
       "2024-09-01   -1.164438\n",
       "2024-10-01    0.560420\n",
       "Freq: MS, Name: Total Sales, dtype: float64"
      ]
     },
     "execution_count": 4,
     "metadata": {},
     "output_type": "execute_result"
    }
   ],
   "source": [
    "serie"
   ]
  },
  {
   "cell_type": "code",
   "execution_count": 5,
   "metadata": {},
   "outputs": [
    {
     "data": {
      "text/plain": [
       "pandas.core.series.Series"
      ]
     },
     "execution_count": 5,
     "metadata": {},
     "output_type": "execute_result"
    }
   ],
   "source": [
    "type(serie)"
   ]
  },
  {
   "cell_type": "code",
   "execution_count": 6,
   "metadata": {},
   "outputs": [
    {
     "name": "stdout",
     "output_type": "stream",
     "text": [
      "Se ejecuto correctamente: data_model2\n",
      "-------------------------------------------------------------------------------\n",
      "\n"
     ]
    }
   ],
   "source": [
    "from data_segmentation import data_model2\n",
    "train_data,test_data = data_model2(serie) # Usando la función data_model2\n"
   ]
  },
  {
   "cell_type": "code",
   "execution_count": 7,
   "metadata": {},
   "outputs": [
    {
     "name": "stdout",
     "output_type": "stream",
     "text": [
      "Se ejecuto correctamente: generate_param_grid\n",
      "-------------------------------------------------------------------------------\n",
      "\n"
     ]
    }
   ],
   "source": [
    "from parameters_optimization import best_parameters_auto_arima,generate_param_grid\n",
    "best_params_arima,best_seasonal_params_arima=best_parameters_auto_arima(serie)\n",
    "param_grid=generate_param_grid(best_params_arima,best_seasonal_params_arima)"
   ]
  },
  {
   "cell_type": "code",
   "execution_count": 8,
   "metadata": {},
   "outputs": [
    {
     "data": {
      "text/plain": [
       "3"
      ]
     },
     "execution_count": 8,
     "metadata": {},
     "output_type": "execute_result"
    }
   ],
   "source": [
    "len(param_grid)"
   ]
  },
  {
   "cell_type": "code",
   "execution_count": 9,
   "metadata": {},
   "outputs": [
    {
     "name": "stdout",
     "output_type": "stream",
     "text": [
      "Number of models compared: 1311.\n"
     ]
    },
    {
     "data": {
      "application/vnd.jupyter.widget-view+json": {
       "model_id": "4549af42c74e4675b874e11892125913",
       "version_major": 2,
       "version_minor": 0
      },
      "text/plain": [
       "params grid:   0%|          | 0/1311 [00:00<?, ?it/s]"
      ]
     },
     "metadata": {},
     "output_type": "display_data"
    }
   ],
   "source": [
    "from sari import grid_search_sarimax_train\n",
    "resultados_grid=grid_search_sarimax_train(train_data,param_grid)"
   ]
  },
  {
   "cell_type": "code",
   "execution_count": 10,
   "metadata": {},
   "outputs": [],
   "source": [
    "from sari import best_params_sarimax\n",
    "top_params=best_params_sarimax(resultados_grid, top_n=10)"
   ]
  },
  {
   "cell_type": "code",
   "execution_count": 11,
   "metadata": {},
   "outputs": [
    {
     "data": {
      "text/plain": [
       "[{'order': (2, 0, 1), 'seasonal_order': (1, 0, 1, 12)},\n",
       " {'order': (2, 0, 1), 'seasonal_order': (1, 0, 1, 12)},\n",
       " {'order': (2, 0, 1), 'seasonal_order': (1, 0, 1, 12)},\n",
       " {'order': (2, 0, 1), 'seasonal_order': (2, 0, 2, 12)},\n",
       " {'order': (2, 0, 1), 'seasonal_order': (2, 0, 2, 12)},\n",
       " {'order': (2, 0, 1), 'seasonal_order': (2, 0, 1, 12)},\n",
       " {'order': (2, 0, 1), 'seasonal_order': (2, 0, 1, 12)},\n",
       " {'order': (2, 0, 1), 'seasonal_order': (2, 0, 0, 12)},\n",
       " {'order': (2, 0, 1), 'seasonal_order': (2, 0, 0, 12)},\n",
       " {'order': (1, 0, 3), 'seasonal_order': (1, 0, 0, 12)}]"
      ]
     },
     "execution_count": 11,
     "metadata": {},
     "output_type": "execute_result"
    }
   ],
   "source": [
    "top_params"
   ]
  },
  {
   "cell_type": "code",
   "execution_count": 12,
   "metadata": {},
   "outputs": [
    {
     "name": "stdout",
     "output_type": "stream",
     "text": [
      "{'order': (2, 0, 1), 'seasonal_order': (1, 0, 1, 12)}\n"
     ]
    },
    {
     "data": {
      "application/vnd.jupyter.widget-view+json": {
       "model_id": "06de6387bd1849138f13a2eb08ae35f7",
       "version_major": 2,
       "version_minor": 0
      },
      "text/plain": [
       "  0%|          | 0/3 [00:00<?, ?it/s]"
      ]
     },
     "metadata": {},
     "output_type": "display_data"
    },
    {
     "name": "stdout",
     "output_type": "stream",
     "text": [
      "resultado [0]:0.36115014358376335\n",
      "se actualizaron resultados:0.36115014358376335-{'order': (2, 0, 1), 'seasonal_order': (1, 0, 1, 12)}\n",
      "{'order': (2, 0, 1), 'seasonal_order': (1, 0, 1, 12)}\n"
     ]
    },
    {
     "data": {
      "application/vnd.jupyter.widget-view+json": {
       "model_id": "0fea47e593b64f0c84d4ed140f6d79a3",
       "version_major": 2,
       "version_minor": 0
      },
      "text/plain": [
       "  0%|          | 0/3 [00:00<?, ?it/s]"
      ]
     },
     "metadata": {},
     "output_type": "display_data"
    },
    {
     "name": "stdout",
     "output_type": "stream",
     "text": [
      "resultado [0]:0.36115014358376335\n",
      "{'order': (2, 0, 1), 'seasonal_order': (1, 0, 1, 12)}\n"
     ]
    },
    {
     "data": {
      "application/vnd.jupyter.widget-view+json": {
       "model_id": "0b30c65b1e054e43870f6bc81103ccf6",
       "version_major": 2,
       "version_minor": 0
      },
      "text/plain": [
       "  0%|          | 0/3 [00:00<?, ?it/s]"
      ]
     },
     "metadata": {},
     "output_type": "display_data"
    },
    {
     "name": "stdout",
     "output_type": "stream",
     "text": [
      "resultado [0]:0.36115014358376335\n",
      "{'order': (2, 0, 1), 'seasonal_order': (2, 0, 2, 12)}\n"
     ]
    },
    {
     "data": {
      "application/vnd.jupyter.widget-view+json": {
       "model_id": "4054cd59397342408a7bfe21c58fa7ca",
       "version_major": 2,
       "version_minor": 0
      },
      "text/plain": [
       "  0%|          | 0/3 [00:00<?, ?it/s]"
      ]
     },
     "metadata": {},
     "output_type": "display_data"
    },
    {
     "name": "stdout",
     "output_type": "stream",
     "text": [
      "resultado [0]:0.48969275409010177\n",
      "{'order': (2, 0, 1), 'seasonal_order': (2, 0, 2, 12)}\n"
     ]
    },
    {
     "data": {
      "application/vnd.jupyter.widget-view+json": {
       "model_id": "b32b6f3bf5b94ebb91aef61f91cb7161",
       "version_major": 2,
       "version_minor": 0
      },
      "text/plain": [
       "  0%|          | 0/3 [00:00<?, ?it/s]"
      ]
     },
     "metadata": {},
     "output_type": "display_data"
    },
    {
     "name": "stdout",
     "output_type": "stream",
     "text": [
      "resultado [0]:0.48969275409010177\n",
      "{'order': (2, 0, 1), 'seasonal_order': (2, 0, 1, 12)}\n"
     ]
    },
    {
     "data": {
      "application/vnd.jupyter.widget-view+json": {
       "model_id": "f3665acefc4a47e3b5c2ba19659b9519",
       "version_major": 2,
       "version_minor": 0
      },
      "text/plain": [
       "  0%|          | 0/3 [00:00<?, ?it/s]"
      ]
     },
     "metadata": {},
     "output_type": "display_data"
    },
    {
     "name": "stdout",
     "output_type": "stream",
     "text": [
      "resultado [0]:0.48543400837094286\n",
      "{'order': (2, 0, 1), 'seasonal_order': (2, 0, 1, 12)}\n"
     ]
    },
    {
     "data": {
      "application/vnd.jupyter.widget-view+json": {
       "model_id": "658d9e6ba1df4cab9bcefd55d87f93e3",
       "version_major": 2,
       "version_minor": 0
      },
      "text/plain": [
       "  0%|          | 0/3 [00:00<?, ?it/s]"
      ]
     },
     "metadata": {},
     "output_type": "display_data"
    },
    {
     "name": "stdout",
     "output_type": "stream",
     "text": [
      "resultado [0]:0.48543400837094286\n",
      "{'order': (2, 0, 1), 'seasonal_order': (2, 0, 0, 12)}\n"
     ]
    },
    {
     "data": {
      "application/vnd.jupyter.widget-view+json": {
       "model_id": "e6e099b817ab4435a94ebc9fcbbec074",
       "version_major": 2,
       "version_minor": 0
      },
      "text/plain": [
       "  0%|          | 0/3 [00:00<?, ?it/s]"
      ]
     },
     "metadata": {},
     "output_type": "display_data"
    },
    {
     "name": "stdout",
     "output_type": "stream",
     "text": [
      "resultado [0]:0.4893893381481833\n",
      "{'order': (2, 0, 1), 'seasonal_order': (2, 0, 0, 12)}\n"
     ]
    },
    {
     "data": {
      "application/vnd.jupyter.widget-view+json": {
       "model_id": "7f04cb6b5968487b899262139e403e91",
       "version_major": 2,
       "version_minor": 0
      },
      "text/plain": [
       "  0%|          | 0/3 [00:00<?, ?it/s]"
      ]
     },
     "metadata": {},
     "output_type": "display_data"
    },
    {
     "name": "stdout",
     "output_type": "stream",
     "text": [
      "resultado [0]:0.4893893381481833\n",
      "{'order': (1, 0, 3), 'seasonal_order': (1, 0, 0, 12)}\n"
     ]
    },
    {
     "data": {
      "application/vnd.jupyter.widget-view+json": {
       "model_id": "3f311bf3029c4d8da3e6b8af03919a89",
       "version_major": 2,
       "version_minor": 0
      },
      "text/plain": [
       "  0%|          | 0/3 [00:00<?, ?it/s]"
      ]
     },
     "metadata": {},
     "output_type": "display_data"
    },
    {
     "name": "stdout",
     "output_type": "stream",
     "text": [
      "resultado [0]:0.3461330364595077\n",
      "se actualizaron resultados:0.3461330364595077-{'order': (1, 0, 3), 'seasonal_order': (1, 0, 0, 12)}\n"
     ]
    }
   ],
   "source": [
    "from sari import predictions_train\n",
    "resultados,mejores_resultados=predictions_train(serie, top_params)"
   ]
  },
  {
   "cell_type": "code",
   "execution_count": 13,
   "metadata": {},
   "outputs": [
    {
     "data": {
      "text/plain": [
       "(   mean_absolute_error\n",
       " 0             0.346133,\n",
       "                 pred\n",
       " 2021-11-01 -0.109180\n",
       " 2021-12-01 -0.383928\n",
       " 2022-01-01  0.246062\n",
       " 2022-02-01  0.295388\n",
       " 2022-03-01 -0.250718\n",
       " 2022-04-01 -0.344395\n",
       " 2022-05-01  0.492505\n",
       " 2022-06-01 -0.424613\n",
       " 2022-07-01  0.081986\n",
       " 2022-08-01  0.038724\n",
       " 2022-09-01 -0.026084\n",
       " 2022-10-01 -0.009682\n",
       " 2022-11-01  0.066255\n",
       " 2022-12-01  0.011608\n",
       " 2023-01-01  0.000550\n",
       " 2023-02-01  0.001474\n",
       " 2023-03-01  0.010996\n",
       " 2023-04-01  0.010004\n",
       " 2023-05-01  0.002232\n",
       " 2023-06-01 -0.005562\n",
       " 2023-07-01 -0.015963\n",
       " 2023-08-01 -0.014817\n",
       " 2023-09-01  0.013449\n",
       " 2023-10-01  0.005388\n",
       " 2023-11-01  0.233663\n",
       " 2023-12-01 -0.741726\n",
       " 2024-01-01  0.418587\n",
       " 2024-02-01  0.127691\n",
       " 2024-03-01 -0.162461\n",
       " 2024-04-01 -0.280010\n",
       " 2024-05-01 -0.208865\n",
       " 2024-06-01  0.340701\n",
       " 2024-07-01  0.488175\n",
       " 2024-08-01  0.069941\n",
       " 2024-09-01 -0.255303\n",
       " 2024-10-01  0.123347)"
      ]
     },
     "execution_count": 13,
     "metadata": {},
     "output_type": "execute_result"
    }
   ],
   "source": [
    "resultados\n"
   ]
  },
  {
   "cell_type": "code",
   "execution_count": 14,
   "metadata": {},
   "outputs": [
    {
     "data": {
      "text/plain": [
       "{'params': {'order': (1, 0, 3), 'seasonal_order': (1, 0, 0, 12)},\n",
       " 'mae': 0.3461330364595077}"
      ]
     },
     "execution_count": 14,
     "metadata": {},
     "output_type": "execute_result"
    }
   ],
   "source": [
    "mejores_resultados"
   ]
  },
  {
   "cell_type": "code",
   "execution_count": 15,
   "metadata": {},
   "outputs": [],
   "source": [
    "\n",
    "def predictions_final_model(serie, mejores_resultados):\n",
    "        \"\"\"\n",
    "        Ajusta el modelo final con los mejores parámetros y realiza predicciones.\n",
    "        \"\"\"\n",
    "        forecaster = ForecasterSarimax(\n",
    "            regressor=Sarimax(\n",
    "                order=mejores_resultados['params']['order'],\n",
    "                seasonal_order=mejores_resultados['params']['seasonal_order'],\n",
    "                #trend=mejores_resultados['params'].get('trend', None),\n",
    "                maxiter=500\n",
    "            )\n",
    "        )\n",
    "\n",
    "        # Ajustar el modelo final\n",
    "        forecaster.fit(serie)\n",
    "        \n",
    "        # Realizar predicciones\n",
    "        predicciones = forecaster.predict(steps=12)\n",
    "        return predicciones\n"
   ]
  },
  {
   "cell_type": "code",
   "execution_count": 16,
   "metadata": {},
   "outputs": [],
   "source": [
    "predicciones=predictions_final_model(serie, mejores_resultados)"
   ]
  },
  {
   "cell_type": "code",
   "execution_count": 17,
   "metadata": {},
   "outputs": [
    {
     "data": {
      "image/png": "[encoded data removed]",
      "text/plain": [
       "<Figure size 1200x600 with 1 Axes>"
      ]
     },
     "metadata": {},
     "output_type": "display_data"
    }
   ],
   "source": [
    "from packages import plt\n",
    " # Gráfico de comparación\n",
    "plt.figure(figsize=(12, 6))\n",
    "plt.plot(serie, label='Datos de entrenamiento', color='blue')\n",
    "plt.plot(predicciones, label='Pronóstico', color='red', linestyle='dashed')\n",
    "plt.legend()\n",
    "plt.title('Comparación entre Pronóstico y Datos Reales')\n",
    "plt.xlabel('Fecha')\n",
    "plt.ylabel('Valor')\n",
    "plt.grid()\n",
    "plt.show()"
   ]
  }
 ],
 "metadata": {
  "kernelspec": {
   "display_name": "Python 3",
   "language": "python",
   "name": "python3"
  },
  "language_info": {
   "codemirror_mode": {
    "name": "ipython",
    "version": 3
   },
   "file_extension": ".py",
   "mimetype": "text/x-python",
   "name": "python",
   "nbconvert_exporter": "python",
   "pygments_lexer": "ipython3",
   "version": "3.10.12"
  }
 },
 "nbformat": 4,
 "nbformat_minor": 2
}
