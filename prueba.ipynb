{
 "cells": [
  {
   "cell_type": "code",
   "execution_count": 1,
   "metadata": {},
   "outputs": [],
   "source": [
    "from data import historical_sales,historical_sales_and_predicts\n",
    "from preprocessing import time_serie,preprocess_series\n",
    "ruta=r'/home/sebastian/Documentos/programas/Forescast Work/sales_historical.csv'\n",
    "df_sales_and_product=historical_sales(ruta)\n",
    "\n"
   ]
  },
  {
   "cell_type": "code",
   "execution_count": 2,
   "metadata": {},
   "outputs": [],
   "source": [
    "df_sales_and_predicts=historical_sales_and_predicts(df_sales_and_product)"
   ]
  },
  {
   "cell_type": "code",
   "execution_count": null,
   "metadata": {},
   "outputs": [],
   "source": [
    "df_sales_and_predicts['country'].unique()"
   ]
  },
  {
   "cell_type": "code",
   "execution_count": null,
   "metadata": {},
   "outputs": [],
   "source": [
    "df_sales_and_predicts[df_sales_and_predicts['country'] == 'Peru']['category group'].unique()\n"
   ]
  },
  {
   "cell_type": "code",
   "execution_count": null,
   "metadata": {},
   "outputs": [],
   "source": [
    "from main_code import filtros\n",
    "filtros"
   ]
  },
  {
   "cell_type": "code",
   "execution_count": null,
   "metadata": {},
   "outputs": [],
   "source": [
    "lst_category=['Pliers']\n",
    "filtros={\n",
    "    'country':'Mexico',\n",
    "    'category group':lst_category\n",
    "}\n",
    "series_sales_dict,series_dict=time_serie(df_sales_and_predicts, filtros)\n",
    "serie=series_dict['Pliers']\n"
   ]
  },
  {
   "cell_type": "code",
   "execution_count": null,
   "metadata": {},
   "outputs": [],
   "source": [
    "from models.model_sarimax import sarimax_model\n",
    "df_predict,best_results_backtesting=sarimax_model(serie)"
   ]
  },
  {
   "cell_type": "code",
   "execution_count": 5,
   "metadata": {},
   "outputs": [],
   "source": [
    "from results import concat_result\n",
    "df_sales_predicts=concat_result(df_predict,df_sales_predicts,best_results_backtesting,filtros)"
   ]
  },
  {
   "cell_type": "code",
   "execution_count": null,
   "metadata": {},
   "outputs": [],
   "source": [
    "from packages import plt\n",
    " # Gráfico de comparación\n",
    "plt.figure(figsize=(12, 6))\n",
    "#plt.plot(serie, label='Datos de entrenamiento', color='blue')\n",
    "plt.plot(df_predict['venta'], label='Pronóstico', color='red', linestyle='dashed')\n",
    "plt.legend()\n",
    "plt.title('Comparación entre Pronóstico y Datos Reales')\n",
    "plt.xlabel('Fecha')\n",
    "plt.ylabel('Valor')\n",
    "plt.grid()\n",
    "plt.show()"
   ]
  },
  {
   "cell_type": "code",
   "execution_count": null,
   "metadata": {},
   "outputs": [],
   "source": [
    "from data import historical_sales,historical_sales_and_predicts\n",
    "from main_code import filtros\n",
    "from preprocessing import time_serie\n",
    "from models.model_sarimax import sarimax_model\n",
    "from results import concat_result\n",
    "'''\n",
    "lst_category_group_mexico=['Pliers']\n",
    "lst_category_group_brasil=[ 'Air Tools']\n",
    "filtros=[\n",
    "    {'country':'Mexico',\n",
    "     'category group':lst_category_group_mexico},\n",
    "\n",
    "     {'country':'Brasil',\n",
    "     'category group':lst_category_group_brasil}\n",
    "]\n",
    "'''\n",
    "ruta=r'/home/sebastian/Documentos/programas/Forescast Work/sales_historical.csv'\n",
    "df_sales_and_product=historical_sales(ruta)\n",
    "df_sales_and_predicts=historical_sales_and_predicts(df_sales_and_product)\n",
    "\n",
    "for filters in filtros:\n",
    "    print(f'entro al for: {filters}')\n",
    "    country = filters['country']\n",
    "    series_sales_dict,series_dict=time_serie(df_sales_and_predicts,filters)\n",
    "    for category in list(series_dict.keys()):\n",
    "        serie=series_dict[category]\n",
    "        df_predict,best_results_backtesting=sarimax_model(serie)\n",
    "        df_sales_and_predicts=concat_result(df_predict,df_sales_and_predicts,best_results_backtesting,country,category)\n",
    "df_sales_and_predicts.to_csv('/home/sebastian/Documentos/programas/Forescast Work/sarimax.csv')"
   ]
  },
  {
   "cell_type": "code",
   "execution_count": null,
   "metadata": {},
   "outputs": [],
   "source": [
    "df_sales_and_predicts.columns"
   ]
  }
 ],
 "metadata": {
  "kernelspec": {
   "display_name": "Python 3",
   "language": "python",
   "name": "python3"
  },
  "language_info": {
   "codemirror_mode": {
    "name": "ipython",
    "version": 3
   },
   "file_extension": ".py",
   "mimetype": "text/x-python",
   "name": "python",
   "nbconvert_exporter": "python",
   "pygments_lexer": "ipython3",
   "version": "3.10.12"
  }
 },
 "nbformat": 4,
 "nbformat_minor": 2
}
